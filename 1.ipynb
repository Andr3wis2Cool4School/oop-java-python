{
 "cells": [
  {
   "cell_type": "markdown",
   "metadata": {},
   "source": [
    "# Intro\n",
    "\n",
    "\n",
    "In this class we will be learning how to create and use classes within python and how object-oriented concepts are applied within the language both Java and Python.\n",
    "\n",
    "Here is what we will learn during the next few classes.\n",
    "\n",
    "- The basics of creating and instantiating classes\n",
    "- learn about inheritance class and instance variables\n",
    "- what is classmethods and staticmethods\n",
    "- Special (Magic/Dunder) Methods\n",
    "- Property Decorators-Getters, Setters, and Deleters\n",
    "- Other things"
   ]
  },
  {
   "cell_type": "markdown",
   "metadata": {},
   "source": [
    "# Why should we even use classes?\n",
    "\n",
    "It isn't just specific to Python and Java, You can see classes being used throughout most modern programming languages, and there's a good reason for that:\n",
    "\n",
    "\n",
    "**They allow us to Logically group our data and functions in a way that's easy to reuse and also easy to build upon if it need be.**\n",
    "\n",
    "\n",
    "---\n",
    ">> A side note: data and functions that are associated with a specific class, we call those `attributes` and `methods`, and you will hear me use those terms a lot throughout these classes, so when i say methods i mean a function that is associated with a class."
   ]
  },
  {
   "cell_type": "markdown",
   "metadata": {},
   "source": [
    "# Qusetion No1"
   ]
  },
  {
   "cell_type": "markdown",
   "metadata": {},
   "source": [
    "Now thinking yourself as a coder, a web developer. ;)\n",
    "\n",
    "Let's say we want to build a application for managing the employees' data inside a company.\n",
    "\n",
    "Now this would be a great use case for a class because each indvidual employee is going to have specific **Attributes and methods**, For example, Each employee is going to..\n",
    "\n",
    "- Name\n",
    "- email address \n",
    "- a pay \n",
    "- Some actions that they can perform\n",
    "\n",
    "So it would be nice if we had a class **That we could use as a blueprint to create each employee so that we didn't have to do this manually each time from scratch**.\n",
    "\n",
    "\n",
    "So Let's go ahead to create a simple employee class and see what that would look like.\n",
    "\n",
    "\n",
    "\n",
    "But First, You guys need to know what is a class and a instance of a class? \n",
    "\n",
    "\n",
    "- A class is basically a blueprint for creating instances \n",
    "- Each unique employee that we create using our employee class will be an instance of that class"
   ]
  },
  {
   "cell_type": "code",
   "execution_count": 1,
   "metadata": {},
   "outputs": [
    {
     "name": "stdout",
     "output_type": "stream",
     "text": [
      "<__main__.Employee object at 0x7f889fe3e4c0>\n",
      "<__main__.Employee object at 0x7f889fe3e520>\n"
     ]
    }
   ],
   "source": [
    "# Python \n",
    "\n",
    "class Employee:\n",
    "    pass \n",
    "\n",
    "\n",
    "emp_1 = Employee()\n",
    "emp_2 = Employee()\n",
    "\n",
    "print(emp_1)\n",
    "print(emp_2)"
   ]
  },
  {
   "cell_type": "markdown",
   "metadata": {},
   "source": [
    "As you can see in the result, both emp_1 and emp_2 is unique instance and its had it's unique location in our memory."
   ]
  },
  {
   "cell_type": "markdown",
   "metadata": {},
   "source": [
    "# Note!"
   ]
  },
  {
   "cell_type": "markdown",
   "metadata": {},
   "source": [
    "You will hear talk about instance variables and class variables and it's important to know the difference between those and i 'll go more in dephth into class variables in the next **section**.\n",
    "\n",
    "But for this section, We are going to be looking at instance variables. So instance variables contain Data that is unique to each instance. Now we can manually create instance variables for each employee by doing something like this in Java and Python "
   ]
  },
  {
   "cell_type": "code",
   "execution_count": 3,
   "metadata": {},
   "outputs": [
    {
     "name": "stdout",
     "output_type": "stream",
     "text": [
      "Colin.Xiao@company.com\n",
      "Lorna.Deng@company.com\n"
     ]
    }
   ],
   "source": [
    "class Employee:\n",
    "    pass \n",
    "\n",
    "emp_1 = Employee()\n",
    "emp_2 = Employee()\n",
    "\n",
    "emp_1.first = 'Colin'\n",
    "emp_1.last = 'Xiao'\n",
    "emp_1.email = 'Colin.Xiao@company.com' # first name + last name @company.com\n",
    "emp_1.pay = 50000\n",
    "\n",
    "\n",
    "emp_2.first = 'Lorna'\n",
    "emp_2.last = 'Deng'\n",
    "emp_2.email = 'Lorna.Deng@company.com' # first name + last name @company.com\n",
    "emp_2.pay = 20000\n",
    "\n",
    "\n",
    "print(emp_1.email)\n",
    "print(emp_2.email)"
   ]
  },
  {
   "cell_type": "markdown",
   "metadata": {},
   "source": [
    "See the Java code in javaDemo1"
   ]
  },
  {
   "cell_type": "markdown",
   "metadata": {},
   "source": [
    "---\n",
    "\n",
    "The code above will work, But what is the point of we using the concepts of class? \n",
    "\n",
    "What we want to do is that we want to set all of this information for each employee when they're created rather than doing all of this manually like we did above.\n",
    "\n",
    "So we would not want to manually set these variables every time you can see it's a lot of code and it's alse prone to mistakes sometimes.\n",
    "\n",
    "So what can we do to set up things automatically when we create the employee is in below:"
   ]
  },
  {
   "cell_type": "code",
   "execution_count": 4,
   "metadata": {},
   "outputs": [
    {
     "name": "stdout",
     "output_type": "stream",
     "text": [
      "Colin.Xiao@company.com\n",
      "Lorna.Deng@company.com\n"
     ]
    }
   ],
   "source": [
    "# In python we will use a special init method like a constructor\n",
    "class Employee:\n",
    "    def __init__(self, first, last, pay):\n",
    "        self.first = first\n",
    "        self.last = last\n",
    "        self.email = first + '.' + last + '@company.com'\n",
    "        self.pay = pay\n",
    "        \n",
    "emp_1 = Employee('Colin', 'Xiao', 50000)\n",
    "emp_2 = Employee('Lorna', 'Deng', 20000)\n",
    "\n",
    "print(emp_1.email)\n",
    "print(emp_2.email)\n",
    "\n",
    "# compare two codes see the different length of these two codes"
   ]
  },
  {
   "cell_type": "markdown",
   "metadata": {},
   "source": [
    "# What is self ? "
   ]
  },
  {
   "cell_type": "markdown",
   "metadata": {},
   "source": [
    "init method you can think it is as a constructor\n",
    "\n",
    "When we create method within class, the method receive the instance as the first argument automatically and by convention. we called the instance as the self. Actullay, you can call it whatever you want, but it is a good ideal to stick to convention here and just use self."
   ]
  },
  {
   "cell_type": "markdown",
   "metadata": {},
   "source": [
    "Note:\n",
    "\n",
    "When we code \n",
    "```python \n",
    "self.first = first\n",
    "```\n",
    "\n",
    "It is the same thing we do it above\n",
    "\n",
    "```Python \n",
    "emp_1.first = 'Colin'\n",
    "```\n",
    "\n",
    "Instead we doing it manually, it will automatically done. :) Nice"
   ]
  },
  {
   "cell_type": "markdown",
   "metadata": {},
   "source": [
    "# What about java ? "
   ]
  },
  {
   "cell_type": "markdown",
   "metadata": {},
   "source": [
    "In java, Things get a little bit complicate, First we need to know a key word in JAVA which is called **Private**.\n"
   ]
  },
  {
   "cell_type": "markdown",
   "metadata": {},
   "source": [
    "Reference:\n",
    "\n",
    "面对对象有一个特性就是封装性, 而封装性的最重要的特点就是内部结构对外不可见. 在此之前的操作中可以发现所有类中的成员属性都可以直接通过实例化对象在类外部进行调用, 而这样的调用是最不安全的, 此时最稳妥的做法就是利用private实现成员属性的封装处理. 而一旦使用了private封装之后, 是不允许外部对象直接访问成员属性的, 而此时的访问则需要按照Java 的开发标准定义setter(), getter()方法来处理."
   ]
  },
  {
   "cell_type": "markdown",
   "metadata": {},
   "source": [
    ">> see in javaDemo2"
   ]
  },
  {
   "cell_type": "markdown",
   "metadata": {},
   "source": [
    "Still Complicate, So we need something in java like the special init method in Python, it is what we called a **Constructor**\n",
    "\n",
    ">> See in JavaDemo3"
   ]
  },
  {
   "cell_type": "markdown",
   "metadata": {},
   "source": [
    "But what about self? \n",
    "\n",
    "In Java there is a similar keyword just like self in Python \n",
    "\n",
    "Which is called **this**\n",
    "\n",
    "So let's add into our code\n",
    "\n",
    "\n",
    ">> See in JavaDemo4"
   ]
  },
  {
   "cell_type": "markdown",
   "metadata": {},
   "source": [
    "# Now let's add some method to our class\n",
    "\n",
    "\n",
    "Now let's say we want to print or return the full name of our employee\n",
    "\n",
    "what we can do? \n",
    "\n",
    "Add method \n",
    "\n",
    "Yeahhhh"
   ]
  },
  {
   "cell_type": "code",
   "execution_count": 13,
   "metadata": {},
   "outputs": [
    {
     "name": "stdout",
     "output_type": "stream",
     "text": [
      "Colin Xiao\n",
      "Lorna Deng\n"
     ]
    }
   ],
   "source": [
    "# Python\n",
    "class Employee:\n",
    "    def __init__(self, first, last, pay):\n",
    "        self.first = first\n",
    "        self.last = last\n",
    "        self.email = first + '.' + last + '@company.com'\n",
    "        \n",
    "        '''\n",
    "        You can also use\n",
    "        self.email = self.first + '.' + self.last + '@company.com'\n",
    "        doesn't matter \n",
    "        '''\n",
    "        \n",
    "        self.pay = pay\n",
    "        \n",
    "    def fullName(self):\n",
    "        fullname = self.first + ' ' + self.last\n",
    "        return fullname\n",
    "        \n",
    "emp_1 = Employee('Colin', 'Xiao', 50000)\n",
    "emp_2 = Employee('Lorna', 'Deng', 20000)\n",
    "\n",
    "print(emp_1.fullName())\n",
    "print(emp_2.fullName())"
   ]
  },
  {
   "cell_type": "markdown",
   "metadata": {},
   "source": [
    "Java version \n",
    "\n",
    ">> See in javaDemo5"
   ]
  },
  {
   "cell_type": "markdown",
   "metadata": {},
   "source": [
    "# Class Var"
   ]
  },
  {
   "cell_type": "markdown",
   "metadata": {},
   "source": [
    "The section above, we learned a lot of instance variables. \n",
    "So, instance variables are something like this:\n",
    "\n",
    "\n",
    "**Python**\n",
    "```Python\n",
    "self.first = first\n",
    "self.last = last\n",
    "```\n",
    "\n",
    "**Java**\n",
    "```Java\n",
    "this.first = first;\n",
    "this.last = last;\n",
    "```\n",
    "\n",
    "\n",
    "This vars is for each instance of the employee that we created. \n",
    "We briefly mentioned class variables in the last section but we did not go into detail.\n",
    "\n",
    "---\n",
    "\n",
    "**Class Variable**\n",
    "\n",
    "\n",
    "class Variable are variables that shared among all instances of a class.\n",
    "\n",
    "\n",
    "So while instance Variable can be unique for each instance like the employee names, email and pay. \n",
    "\n",
    "Class Variables should be the same for each instance.\n",
    "\n",
    "If you look into the employee class what kind of variable can we shall for all the instances? \n",
    "\n",
    "Well the can be lots of good ideals in it.\n",
    "\n",
    "Here is an example:\n",
    "\n",
    "Let's say that our company gives an annual raises every year. \n",
    "\n",
    "Now the amount can change from year to year, but whatever the amount it is. It's going to be the same for all employees, So that would be a good candidate for a class variable.\n",
    "\n",
    "\n",
    "Before we actully create class variable, let's hot code this in Pyhton see why we need class variable."
   ]
  },
  {
   "cell_type": "code",
   "execution_count": 16,
   "metadata": {},
   "outputs": [
    {
     "name": "stdout",
     "output_type": "stream",
     "text": [
      "50000\n",
      "52000\n"
     ]
    }
   ],
   "source": [
    "# Python\n",
    "class Employee:\n",
    "    def __init__(self, first, last, pay):\n",
    "        self.first = first\n",
    "        self.last = last\n",
    "        self.email = first + '.' + last + '@company.com'\n",
    "        \n",
    "        '''\n",
    "        You can also use\n",
    "        self.email = self.first + '.' + self.last + '@company.com'\n",
    "        doesn't matter \n",
    "        '''\n",
    "        \n",
    "        self.pay = pay\n",
    "        \n",
    "    def fullName(self):\n",
    "        fullname = self.first + ' ' + self.last\n",
    "        return fullname\n",
    "    \n",
    "    def apply_raise(self):\n",
    "        self.pay = int(self.pay * 1.04)\n",
    "        \n",
    "emp_1 = Employee('Colin', 'Xiao', 50000)\n",
    "emp_2 = Employee('Lorna', 'Deng', 20000)\n",
    "\n",
    "print(emp_1.pay)\n",
    "emp_1.apply_raise()\n",
    "print(emp_1.pay)"
   ]
  },
  {
   "cell_type": "markdown",
   "metadata": {},
   "source": [
    "**Ideals**\n",
    "\n",
    "It would be nice if we can access the raise amount value by doing something like \n",
    "\n",
    "```python\n",
    "emp_1.rasie_amount\n",
    "```\n",
    "\n",
    "we can see that it is 4% \n",
    "\n",
    "OR \n",
    "\n",
    "What if we want to updated that 4% amount ?\n",
    "\n",
    "Right now, It is kind hidden in the code.\n",
    "\n",
    "So we can code it up into a class Variable."
   ]
  },
  {
   "cell_type": "code",
   "execution_count": 18,
   "metadata": {},
   "outputs": [
    {
     "name": "stdout",
     "output_type": "stream",
     "text": [
      "50000\n",
      "52000\n"
     ]
    }
   ],
   "source": [
    "# Python\n",
    "class Employee:\n",
    "    \n",
    "    raise_amount = 1.04\n",
    "    \n",
    "    def __init__(self, first, last, pay):\n",
    "        self.first = first\n",
    "        self.last = last\n",
    "        self.email = first + '.' + last + '@company.com'\n",
    "        \n",
    "        '''\n",
    "        You can also use\n",
    "        self.email = self.first + '.' + self.last + '@company.com'\n",
    "        doesn't matter \n",
    "        '''\n",
    "        \n",
    "        self.pay = pay\n",
    "        \n",
    "    def fullName(self):\n",
    "        fullname = self.first + ' ' + self.last\n",
    "        return fullname\n",
    "    \n",
    "    def apply_raise(self):\n",
    "        self.pay = int(self.pay * self.raise_amount)\n",
    "    \n",
    "    '''\n",
    "    def apply_raise(self):\n",
    "        self.pay = int(self.pay * Employee.raise_amount)\n",
    "    \n",
    "    either access the class var through the instance or class itself.\n",
    "    both code do the same thing\n",
    "    '''\n",
    "        \n",
    "emp_1 = Employee('Colin', 'Xiao', 50000)\n",
    "emp_2 = Employee('Lorna', 'Deng', 20000)\n",
    "\n",
    "print(emp_1.pay)\n",
    "emp_1.apply_raise()\n",
    "print(emp_1.pay)\n"
   ]
  },
  {
   "cell_type": "markdown",
   "metadata": {},
   "source": [
    "In java, Class Variables can achieve by keyword **static**\n",
    "\n",
    ">> See in javaDemo6"
   ]
  },
  {
   "cell_type": "markdown",
   "metadata": {},
   "source": [
    "Change class Var"
   ]
  },
  {
   "cell_type": "code",
   "execution_count": 19,
   "metadata": {},
   "outputs": [],
   "source": [
    "# Python\n",
    "class Employee:\n",
    "    \n",
    "    raise_amount = 1.04\n",
    "    \n",
    "    def __init__(self, first, last, pay):\n",
    "        self.first = first\n",
    "        self.last = last\n",
    "        self.email = first + '.' + last + '@company.com'\n",
    "        \n",
    "        '''\n",
    "        You can also use\n",
    "        self.email = self.first + '.' + self.last + '@company.com'\n",
    "        doesn't matter \n",
    "        '''\n",
    "        \n",
    "        self.pay = pay\n",
    "        \n",
    "    def fullName(self):\n",
    "        fullname = self.first + ' ' + self.last\n",
    "        return fullname\n",
    "    \n",
    "    def apply_raise(self):\n",
    "        self.pay = int(self.pay * self.raise_amount)\n",
    "        \n",
    "emp_1 = Employee('Colin', 'Xiao', 50000)\n",
    "emp_2 = Employee('Lorna', 'Deng', 20000)"
   ]
  },
  {
   "cell_type": "code",
   "execution_count": 21,
   "metadata": {
    "scrolled": true
   },
   "outputs": [
    {
     "name": "stdout",
     "output_type": "stream",
     "text": [
      "100000\n",
      "20000\n",
      "200000\n",
      "20800\n"
     ]
    }
   ],
   "source": [
    "# only apply for emp1\n",
    "print(emp_1.pay)\n",
    "print(emp_2.pay)\n",
    "emp_1.raise_amount = 2.00\n",
    "emp_1.apply_raise()\n",
    "emp_2.apply_raise()\n",
    "print(emp_1.pay)\n",
    "print(emp_2.pay)"
   ]
  },
  {
   "cell_type": "code",
   "execution_count": 22,
   "metadata": {},
   "outputs": [
    {
     "name": "stdout",
     "output_type": "stream",
     "text": [
      "200000\n",
      "20800\n",
      "400000\n",
      "41600\n"
     ]
    }
   ],
   "source": [
    "# Change for all\n",
    "print(emp_1.pay)\n",
    "print(emp_2.pay)\n",
    "Employee.raise_amount = 2.00\n",
    "emp_1.apply_raise()\n",
    "emp_2.apply_raise()\n",
    "print(emp_1.pay)\n",
    "print(emp_2.pay)"
   ]
  },
  {
   "cell_type": "markdown",
   "metadata": {},
   "source": [
    "# Let's see in Java :)\n",
    "\n",
    "\n",
    ">> See in JavaDemo7\n",
    "\n",
    "\n",
    "What is going on with JavaDemo7??\n",
    "\n",
    "\n",
    "\n",
    "By not using Static can slove this problem :)\n",
    "\n",
    "just remember!\n",
    "\n",
    "\n",
    ">> See in JavaDemo8"
   ]
  },
  {
   "cell_type": "code",
   "execution_count": null,
   "metadata": {},
   "outputs": [],
   "source": []
  },
  {
   "cell_type": "code",
   "execution_count": null,
   "metadata": {},
   "outputs": [],
   "source": []
  }
 ],
 "metadata": {
  "kernelspec": {
   "display_name": "Python 3",
   "language": "python",
   "name": "python3"
  },
  "language_info": {
   "codemirror_mode": {
    "name": "ipython",
    "version": 3
   },
   "file_extension": ".py",
   "mimetype": "text/x-python",
   "name": "python",
   "nbconvert_exporter": "python",
   "pygments_lexer": "ipython3",
   "version": "3.8.2"
  }
 },
 "nbformat": 4,
 "nbformat_minor": 4
}
