{
 "cells": [
  {
   "cell_type": "markdown",
   "id": "c79c86f0",
   "metadata": {},
   "source": [
    "# Ex1\n",
    "\n",
    "\n",
    "![image](./images/1.png)"
   ]
  },
  {
   "cell_type": "markdown",
   "id": "76d1c9b8",
   "metadata": {},
   "source": [
    "![image](./images/2.png)\n",
    "\n",
    "\n",
    "**Only In JAVA**"
   ]
  },
  {
   "cell_type": "code",
   "execution_count": null,
   "id": "1f0ce97e",
   "metadata": {},
   "outputs": [],
   "source": []
  },
  {
   "cell_type": "markdown",
   "id": "e1b3db9d",
   "metadata": {},
   "source": [
    "# EX2\n",
    "\n",
    "![image](./images/StepTracker.png)\n",
    "\n",
    "**Please Write both in JAVA and Python**"
   ]
  },
  {
   "cell_type": "code",
   "execution_count": null,
   "id": "5f574a74",
   "metadata": {},
   "outputs": [],
   "source": []
  },
  {
   "cell_type": "markdown",
   "id": "39689542",
   "metadata": {},
   "source": [
    "# EX3\n",
    "\n",
    "![image](./images/puzz1.png)\n",
    "\n",
    "![image](./images/puzz2.png)"
   ]
  },
  {
   "cell_type": "markdown",
   "id": "0e9d0bd2",
   "metadata": {},
   "source": [
    "![image](./images/puzz3.png)\n",
    "\n",
    "![image](./images/puzzz.png)"
   ]
  },
  {
   "cell_type": "code",
   "execution_count": null,
   "id": "01d73626",
   "metadata": {},
   "outputs": [],
   "source": []
  },
  {
   "cell_type": "markdown",
   "id": "f929f5fe",
   "metadata": {},
   "source": [
    "![image](./images/puzzq2-1.png)\n",
    "\n",
    "![image](./images/puzzq2.png)"
   ]
  },
  {
   "cell_type": "code",
   "execution_count": null,
   "id": "d4a2e788",
   "metadata": {},
   "outputs": [],
   "source": []
  }
 ],
 "metadata": {
  "kernelspec": {
   "display_name": "Python 3",
   "language": "python",
   "name": "python3"
  },
  "language_info": {
   "codemirror_mode": {
    "name": "ipython",
    "version": 3
   },
   "file_extension": ".py",
   "mimetype": "text/x-python",
   "name": "python",
   "nbconvert_exporter": "python",
   "pygments_lexer": "ipython3",
   "version": "3.8.8"
  }
 },
 "nbformat": 4,
 "nbformat_minor": 5
}
