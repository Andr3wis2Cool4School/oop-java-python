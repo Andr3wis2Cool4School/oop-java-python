{
 "cells": [
  {
   "cell_type": "markdown",
   "id": "6cf97183",
   "metadata": {},
   "source": [
    "# Ex1\n",
    "\n",
    "\n",
    "![image](./images/1.png)"
   ]
  },
  {
   "cell_type": "markdown",
   "id": "a38d91ea",
   "metadata": {},
   "source": [
    "![image](./images/2.png)\n",
    "\n",
    "\n",
    "**Only In JAVA**"
   ]
  },
  {
   "cell_type": "code",
   "execution_count": null,
   "id": "015d7d56",
   "metadata": {},
   "outputs": [],
   "source": []
  },
  {
   "cell_type": "markdown",
   "id": "6a6595ef",
   "metadata": {},
   "source": [
    "# EX2\n",
    "\n",
    "![image](./images/StepTracker.png)\n",
    "\n",
    "**Please Write both in JAVA and Python**"
   ]
  },
  {
   "cell_type": "code",
   "execution_count": null,
   "id": "3ceb6c2b",
   "metadata": {},
   "outputs": [],
   "source": []
  },
  {
   "cell_type": "markdown",
   "id": "5d4c16f1",
   "metadata": {},
   "source": [
    "# EX3\n",
    "\n",
    "![image](./images/puzz1.png)\n",
    "\n",
    "![image](./images/puzz2.png)"
   ]
  },
  {
   "cell_type": "markdown",
   "id": "f1d782c5",
   "metadata": {},
   "source": [
    "![image](./images/puzz3.png)\n",
    "\n",
    "![image](./images/puzzz.png)"
   ]
  },
  {
   "cell_type": "code",
   "execution_count": null,
   "id": "af65863e",
   "metadata": {},
   "outputs": [],
   "source": []
  },
  {
   "cell_type": "markdown",
   "id": "8786e011",
   "metadata": {},
   "source": [
    "![image](./images/puzzq2-1.png)\n",
    "\n",
    "![image](./images/puzzq2.png)"
   ]
  },
  {
   "cell_type": "code",
   "execution_count": null,
   "id": "8049f351",
   "metadata": {},
   "outputs": [],
   "source": []
  }
 ],
 "metadata": {
  "kernelspec": {
   "display_name": "Python 3",
   "language": "python",
   "name": "python3"
  },
  "language_info": {
   "codemirror_mode": {
    "name": "ipython",
    "version": 3
   },
   "file_extension": ".py",
   "mimetype": "text/x-python",
   "name": "python",
   "nbconvert_exporter": "python",
   "pygments_lexer": "ipython3",
   "version": "3.8.8"
  }
 },
 "nbformat": 4,
 "nbformat_minor": 5
}
