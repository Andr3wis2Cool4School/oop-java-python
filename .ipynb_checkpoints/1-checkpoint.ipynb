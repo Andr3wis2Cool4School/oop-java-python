{
 "cells": [
  {
   "cell_type": "markdown",
   "metadata": {},
   "source": [
    "# Intro\n",
    "\n",
    "\n",
    "In this class we will be learning how to create and use classes within python and how object-oriented concepts are applied within the language both Java and Python.\n",
    "\n",
    "Here is what we will learn during the next few classes.\n",
    "\n",
    "- The basics of creating and instantiating classes\n",
    "- learn about inheritance class and instance variables\n",
    "- what is classmethods and staticmethods\n",
    "- Special (Magic/Dunder) Methods\n",
    "- Property Decorators-Getters, Setters, and Deleters\n",
    "- Other things"
   ]
  },
  {
   "cell_type": "markdown",
   "metadata": {},
   "source": [
    "# Why should we even use classes?\n",
    "\n",
    "It isn't just specific to Python and Java, You can see classes being used throughout most modern programming languages, and there's a good reason for that:\n",
    "\n",
    "\n",
    "**They allow us to Logically group our data and functions in a way that's easy to reuse and also easy to build upon if it need be.**\n",
    "\n",
    "\n",
    "---\n",
    ">> A side note: data and functions that are associated with a specific class, we call those `attributes` and `methods`, and you will hear me use those terms a lot throughout these classes, so when i say methods i mean a function that is associated with a class."
   ]
  },
  {
   "cell_type": "markdown",
   "metadata": {},
   "source": [
    "# Qusetion No1"
   ]
  },
  {
   "cell_type": "markdown",
   "metadata": {},
   "source": [
    "Now thinking yourself as a coder, a web developer. ;)\n",
    "\n",
    "Let's say we want to build a application for managing the employees' data inside a company.\n",
    "\n",
    "Now this would be a great use case for a class because each indvidual employee is going to have specific **Attributes and methods**, For example, Each employee is going to..\n",
    "\n",
    "- Name\n",
    "- email address \n",
    "- a pay \n",
    "- Some actions that they can perform\n",
    "\n",
    "So it would be nice if we had a class **That we could use as a blueprint to create each employee so that we didn't have to do this manually each time from scratch**.\n",
    "\n",
    "\n",
    "So Let's go ahead to create a simple employee class and see what that would look like.\n",
    "\n",
    "\n",
    "\n",
    "But First, You guys need to know what is a class and a instance of a class? \n",
    "\n",
    "\n",
    "- A class is basically a blueprint for creating instances \n",
    "- Each unique employee that we create using our employee class will be an instance of that class"
   ]
  },
  {
   "cell_type": "code",
   "execution_count": 1,
   "metadata": {},
   "outputs": [
    {
     "name": "stdout",
     "output_type": "stream",
     "text": [
      "<__main__.Employee object at 0x7f889fe3e4c0>\n",
      "<__main__.Employee object at 0x7f889fe3e520>\n"
     ]
    }
   ],
   "source": [
    "# Python \n",
    "\n",
    "class Employee:\n",
    "    pass \n",
    "\n",
    "\n",
    "emp_1 = Employee()\n",
    "emp_2 = Employee()\n",
    "\n",
    "print(emp_1)\n",
    "print(emp_2)"
   ]
  },
  {
   "cell_type": "markdown",
   "metadata": {},
   "source": [
    "As you can see in the result, both emp_1 and emp_2 is unique instance and its had it's unique location in our memory."
   ]
  },
  {
   "cell_type": "markdown",
   "metadata": {},
   "source": [
    "# Note!"
   ]
  },
  {
   "cell_type": "markdown",
   "metadata": {},
   "source": [
    "You will hear talk about instance variables and class variables and it's important to know the difference between those and i 'll go more in dephth into class variables in the next **section**.\n",
    "\n",
    "But for this section, We are going to be looking at instance variables. So instance variables contain Data that is unique to each instance. Now we can manually create instance variables for each employee by doing something like this in Java and Python "
   ]
  },
  {
   "cell_type": "code",
   "execution_count": 3,
   "metadata": {},
   "outputs": [
    {
     "name": "stdout",
     "output_type": "stream",
     "text": [
      "Colin.Xiao@company.com\n",
      "Lorna.Deng@company.com\n"
     ]
    }
   ],
   "source": [
    "class Employee:\n",
    "    pass \n",
    "\n",
    "emp_1 = Employee()\n",
    "emp_2 = Employee()\n",
    "\n",
    "emp_1.first = 'Colin'\n",
    "emp_1.last = 'Xiao'\n",
    "emp_1.email = 'Colin.Xiao@company.com' # first name + last name @company.com\n",
    "emp_1.pay = 50000\n",
    "\n",
    "\n",
    "emp_2.first = 'Lorna'\n",
    "emp_2.last = 'Deng'\n",
    "emp_2.email = 'Lorna.Deng@company.com' # first name + last name @company.com\n",
    "emp_2.pay = 20000\n",
    "\n",
    "\n",
    "print(emp_1.email)\n",
    "print(emp_2.email)"
   ]
  },
  {
   "cell_type": "markdown",
   "metadata": {},
   "source": [
    "See the Java code in javaDemo1"
   ]
  },
  {
   "cell_type": "markdown",
   "metadata": {},
   "source": [
    "---\n",
    "\n",
    "The code above will work, But what is the point of we using the concepts of class? \n",
    "\n",
    "What we want to do is that we want to set all of this information for each employee when they're created rather than doing all of this manually like we did above.\n",
    "\n",
    "So we would not want to manually set these variables every time you can see it's a lot of code and it's alse prone to mistakes sometimes.\n",
    "\n",
    "So what can we do to set up things automatically when we create the employee is in below:"
   ]
  },
  {
   "cell_type": "code",
   "execution_count": 4,
   "metadata": {},
   "outputs": [
    {
     "name": "stdout",
     "output_type": "stream",
     "text": [
      "Colin.Xiao@company.com\n",
      "Lorna.Deng@company.com\n"
     ]
    }
   ],
   "source": [
    "# In python we will use a special init method like a constructor\n",
    "class Employee:\n",
    "    def __init__(self, first, last, pay):\n",
    "        self.first = first\n",
    "        self.last = last\n",
    "        self.email = first + '.' + last + '@company.com'\n",
    "        self.pay = pay\n",
    "        \n",
    "emp_1 = Employee('Colin', 'Xiao', 50000)\n",
    "emp_2 = Employee('Lorna', 'Deng', 20000)\n",
    "\n",
    "print(emp_1.email)\n",
    "print(emp_2.email)\n",
    "\n",
    "# compare two codes see the different length of these two codes"
   ]
  },
  {
   "cell_type": "code",
   "execution_count": null,
   "metadata": {},
   "outputs": [],
   "source": []
  }
 ],
 "metadata": {
  "kernelspec": {
   "display_name": "Python 3",
   "language": "python",
   "name": "python3"
  },
  "language_info": {
   "codemirror_mode": {
    "name": "ipython",
    "version": 3
   },
   "file_extension": ".py",
   "mimetype": "text/x-python",
   "name": "python",
   "nbconvert_exporter": "python",
   "pygments_lexer": "ipython3",
   "version": "3.8.2"
  }
 },
 "nbformat": 4,
 "nbformat_minor": 4
}
