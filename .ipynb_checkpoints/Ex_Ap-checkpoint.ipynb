{
 "cells": [
  {
   "cell_type": "markdown",
   "metadata": {},
   "source": [
    "# Ex1\n",
    "\n",
    "\n",
    "![image](./images/1.png)"
   ]
  },
  {
   "cell_type": "markdown",
   "metadata": {},
   "source": [
    "![image](./images/2.png)\n",
    "\n",
    "\n",
    "**Only In JAVA**"
   ]
  },
  {
   "cell_type": "code",
   "execution_count": null,
   "metadata": {},
   "outputs": [],
   "source": []
  },
  {
   "cell_type": "markdown",
   "metadata": {},
   "source": [
    "# EX2\n",
    "\n",
    "![image](./images/StepTracker.png)\n",
    "\n",
    "**Please Write both in JAVA and Python**"
   ]
  },
  {
   "cell_type": "code",
   "execution_count": null,
   "metadata": {},
   "outputs": [],
   "source": []
  },
  {
   "cell_type": "markdown",
   "metadata": {},
   "source": [
    "# EX3\n",
    "\n",
    "![image](./images/puzz1.png)\n",
    "\n",
    "![image](./images/puzz2.png)"
   ]
  },
  {
   "cell_type": "markdown",
   "metadata": {},
   "source": [
    "![image](./images/puzz3.png)\n",
    "\n",
    "![image](./images/puzzz.png)"
   ]
  },
  {
   "cell_type": "code",
   "execution_count": null,
   "metadata": {},
   "outputs": [],
   "source": []
  },
  {
   "cell_type": "markdown",
   "metadata": {},
   "source": [
    "![image](./images/puzzq2-1.png)\n",
    "\n",
    "![image](./images/puzzq2.png)"
   ]
  },
  {
   "cell_type": "code",
   "execution_count": null,
   "metadata": {},
   "outputs": [],
   "source": []
  },
  {
   "cell_type": "markdown",
   "metadata": {},
   "source": [
    "# Ex4\n",
    "\n",
    "![image](./images/lb1.png)\n",
    "\n",
    "![image](./images/lb2.png)"
   ]
  },
  {
   "cell_type": "code",
   "execution_count": null,
   "metadata": {},
   "outputs": [],
   "source": []
  },
  {
   "cell_type": "markdown",
   "metadata": {},
   "source": [
    "![image](./images/lb3.png)\n",
    "\n",
    "![image](./images/lb100.png)"
   ]
  },
  {
   "cell_type": "code",
   "execution_count": null,
   "metadata": {},
   "outputs": [],
   "source": []
  },
  {
   "cell_type": "markdown",
   "metadata": {},
   "source": [
    "# Boolean Expression with Variables a and b\n",
    "\n",
    "Assume that the boolean variables a and b have been declared and initialized. Consider the following Expression.\n",
    "\n",
    "\n",
    "```Java\n",
    "(a && (b || !a)) == a && b\n",
    "```\n",
    "\n",
    "which of the following best describes the conditions under which the expression will evaluate to true ?\n",
    "\n",
    "\n",
    "- A. Only When a is True\n",
    "- B. Only When b is True\n",
    "- C. Only when both a and b are true\n",
    "- D. The expression will never evaluate to true\n",
    "- E. The expression will always evaluate to true"
   ]
  },
  {
   "cell_type": "code",
   "execution_count": null,
   "metadata": {},
   "outputs": [],
   "source": []
  },
  {
   "cell_type": "markdown",
   "metadata": {},
   "source": [
    "- Hard Way \n",
    "\n",
    "\n",
    "- Remember && greater than == \n",
    "\n",
    "Answer is B "
   ]
  },
  {
   "cell_type": "markdown",
   "metadata": {},
   "source": [
    "# Compound Boolean Expression\n",
    "\n",
    "Which of the following best describes the value of the boolean expression shown below?\n",
    "\n",
    "```Java\n",
    "a && !(b||a)\n",
    "```"
   ]
  },
  {
   "cell_type": "code",
   "execution_count": null,
   "metadata": {},
   "outputs": [],
   "source": []
  },
  {
   "cell_type": "code",
   "execution_count": null,
   "metadata": {},
   "outputs": [],
   "source": []
  },
  {
   "cell_type": "markdown",
   "metadata": {},
   "source": [
    "Answer is B "
   ]
  },
  {
   "cell_type": "code",
   "execution_count": null,
   "metadata": {},
   "outputs": [],
   "source": []
  },
  {
   "cell_type": "markdown",
   "metadata": {},
   "source": [
    "# Boolean Expression with Variables a, b, c and d\n",
    "\n",
    "Assume that the boolean variables a, b, c and d have been declared and initialized.\n",
    "\n",
    "Consider the following expression.\n",
    "\n",
    "```Java\n",
    "!(!(a && b) || ( c || !d))\n",
    "```\n",
    "\n",
    "Which of the following is equivalent to the expression? \n",
    "\n",
    "\n",
    "![images](./images/choices.png)"
   ]
  },
  {
   "cell_type": "code",
   "execution_count": null,
   "metadata": {},
   "outputs": [],
   "source": []
  },
  {
   "cell_type": "markdown",
   "metadata": {},
   "source": [
    "# Remeber the morgan's law \n",
    "\n",
    "```Java\n",
    "!(a || b) = !a && !b\n",
    "!(a && b) = !a || !b\n",
    "```\n",
    "\n",
    "The Answer should be **A**."
   ]
  },
  {
   "cell_type": "code",
   "execution_count": null,
   "metadata": {},
   "outputs": [],
   "source": []
  },
  {
   "cell_type": "markdown",
   "metadata": {},
   "source": [
    "# q\n",
    "The following code is not right, what is wrong about this code:\n",
    "\n",
    "```Java\n",
    "String [] animals = {\"horse\", \"cow\", \"goat\", \"dog\", \"cat\", \"mouse\"};\n",
    "int count = 0;\n",
    "for (int i = 0; i <= animals.length; i++){\n",
    "    if (animals[i].indexOf(str) >= 0){\n",
    "        count ++;\n",
    "    }\n",
    "}\n",
    "System.out.println(count);\n",
    "```"
   ]
  },
  {
   "cell_type": "code",
   "execution_count": null,
   "metadata": {},
   "outputs": [],
   "source": []
  }
 ],
 "metadata": {
  "kernelspec": {
   "display_name": "Python 3",
   "language": "python",
   "name": "python3"
  },
  "language_info": {
   "codemirror_mode": {
    "name": "ipython",
    "version": 3
   },
   "file_extension": ".py",
   "mimetype": "text/x-python",
   "name": "python",
   "nbconvert_exporter": "python",
   "pygments_lexer": "ipython3",
   "version": "3.8.2"
  }
 },
 "nbformat": 4,
 "nbformat_minor": 5
}
